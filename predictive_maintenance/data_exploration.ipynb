{
 "cells": [
  {
   "cell_type": "code",
   "execution_count": 5,
   "metadata": {
    "collapsed": true
   },
   "outputs": [],
   "source": [
    "import os\n",
    "import pandas as pd\n",
    "import numpy as np\n",
    "\n",
    "import matplotlib.pyplot as plt\n",
    "%matplotlib inline"
   ]
  },
  {
   "cell_type": "code",
   "execution_count": 13,
   "metadata": {},
   "outputs": [],
   "source": [
    "PROJECT_DIR = os.path.abspath(os.curdir)\n",
    "BASE_DIR = os.path.join(PROJECT_DIR, \"predictive_maintenance\")"
   ]
  },
  {
   "cell_type": "code",
   "execution_count": 14,
   "metadata": {},
   "outputs": [],
   "source": [
    "# Reading the train_file\n",
    "train_pd = pd.read_csv(os.path.join(BASE_DIR, \"train.txt\"), sep=\" \", header=None)"
   ]
  },
  {
   "cell_type": "code",
   "execution_count": 17,
   "metadata": {},
   "outputs": [
    {
     "name": "stdout",
     "output_type": "stream",
     "text": [
      "   0   1        2       3      4       5       6        7        8      9   \\\n0   1   1  10.0047  0.2501   20.0  489.05  604.13  1499.45  1309.95  10.52   \n1   1   2   0.0015  0.0003  100.0  518.67  642.13  1584.55  1403.96  14.62   \n2   1   3  34.9986  0.8401   60.0  449.44  555.42  1368.17  1122.49   5.48   \n3   1   4  20.0031  0.7005    0.0  491.19  607.03  1488.44  1249.18   9.35   \n4   1   5  42.0041  0.8405   40.0  445.00  549.52  1354.48  1124.32   3.91   \n\n  ...       18      19    20   21    22     23     24       25  26  27  \n0 ...  8120.83  8.6216  0.03  368  2319  100.0  28.58  17.1735 NaN NaN  \n1 ...  8132.87  8.3907  0.03  391  2388  100.0  38.99  23.3619 NaN NaN  \n2 ...  8063.84  9.3557  0.02  334  2223  100.0  14.83   8.8555 NaN NaN  \n3 ...  8052.30  9.2231  0.02  364  2324  100.0  24.42  14.7832 NaN NaN  \n4 ...  8083.67  9.2986  0.02  330  2212  100.0  10.99   6.4025 NaN NaN  \n\n[5 rows x 28 columns]\n"
     ]
    }
   ],
   "source": [
    "print(train_pd.head())"
   ]
  },
  {
   "cell_type": "code",
   "execution_count": null,
   "metadata": {},
   "outputs": [],
   "source": []
  }
 ],
 "metadata": {
  "kernelspec": {
   "display_name": "Python 2",
   "language": "python",
   "name": "python2"
  },
  "language_info": {
   "codemirror_mode": {
    "name": "ipython",
    "version": 2
   },
   "file_extension": ".py",
   "mimetype": "text/x-python",
   "name": "python",
   "nbconvert_exporter": "python",
   "pygments_lexer": "ipython2",
   "version": "2.7.6"
  }
 },
 "nbformat": 4,
 "nbformat_minor": 0
}
