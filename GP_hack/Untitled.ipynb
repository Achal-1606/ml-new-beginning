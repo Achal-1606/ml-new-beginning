{
 "cells": [
  {
   "cell_type": "code",
   "execution_count": 1,
   "metadata": {},
   "outputs": [],
   "source": [
    "import gc\n",
    "import os\n",
    "\n",
    "import matplotlib.pyplot as plt\n",
    "import numpy as np\n",
    "import pandas as pd\n",
    "\n",
    "from tqdm import tqdm, tqdm_notebook\n",
    "gc.enable()"
   ]
  },
  {
   "cell_type": "code",
   "execution_count": 2,
   "metadata": {},
   "outputs": [],
   "source": [
    "BASE_DIR = os.path.abspath(os.path.curdir)\n",
    "TRAIN = os.path.join(BASE_DIR, \"train\")"
   ]
  },
  {
   "cell_type": "code",
   "execution_count": 3,
   "metadata": {},
   "outputs": [],
   "source": [
    "def read_data():\n",
    "    train = pd.read_csv(os.path.join(TRAIN, 'train.csv'),\n",
    "                        sep=',')\n",
    "    train.sort_values([\"week\", \"center_id\", \"meal_id\"], ascending=True, inplace=True)\n",
    "    meal_info = pd.read_csv(os.path.join(TRAIN, 'meal_info.csv'),\n",
    "                            sep=',')\n",
    "    fc_info = pd.read_csv(os.path.join(TRAIN, 'fulfilment_center_info.csv'),\n",
    "                          sep=',')\n",
    "    test = pd.read_csv(os.path.join(BASE_DIR, 'test.csv'))\n",
    "    test.sort_values([\"week\", \"center_id\", \"meal_id\"], ascending=True, inplace=True)\n",
    "    print(\"train records - \", train.shape)\n",
    "    print(\"test records - \", test.shape)\n",
    "    print(\"meal info records - \", meal_info.shape)\n",
    "    print(\"fulfilment center records - \", fc_info.shape)\n",
    "    return train, test, meal_info, fc_info\n"
   ]
  },
  {
   "cell_type": "code",
   "execution_count": 4,
   "metadata": {},
   "outputs": [
    {
     "name": "stdout",
     "output_type": "stream",
     "text": [
      "train records -  (456548, 9)\n",
      "test records -  (32573, 8)\n",
      "meal info records -  (51, 3)\n",
      "fulfilment center records -  (77, 5)\n"
     ]
    }
   ],
   "source": [
    "# Reading the dataset\n",
    "train_pd, test_pd, meal_info_pd, fc_info_pd = read_data()"
   ]
  },
  {
   "cell_type": "code",
   "execution_count": 5,
   "metadata": {},
   "outputs": [
    {
     "name": "stdout",
     "output_type": "stream",
     "text": [
      "Train range weeks - 1 to 145\n",
      "Test range weeks - 146 to 155\n"
     ]
    }
   ],
   "source": [
    "start_week = train_pd.week.min()\n",
    "end_week = test_pd.week.max()\n",
    "print(\"Train range weeks - {} to {}\".format(start_week, train_pd.week.max()))\n",
    "print(\"Test range weeks - {} to {}\".format(test_pd.week.min(), end_week))"
   ]
  },
  {
   "cell_type": "code",
   "execution_count": 6,
   "metadata": {},
   "outputs": [],
   "source": [
    "week_map_pd = pd.DataFrame.from_dict({\"week\": np.arange(start_week, end_week + 1, 1)})"
   ]
  },
  {
   "cell_type": "code",
   "execution_count": 7,
   "metadata": {},
   "outputs": [],
   "source": [
    "week_map_pd.loc[:, \"month\"] = week_map_pd.week.map(lambda x: np.ceil(x/4))\n",
    "week_map_pd.loc[:, \"quarter\"] = week_map_pd.week.map(lambda x: np.ceil(x/13))"
   ]
  },
  {
   "cell_type": "code",
   "execution_count": 8,
   "metadata": {},
   "outputs": [
    {
     "data": {
      "text/html": [
       "<div>\n",
       "<style scoped>\n",
       "    .dataframe tbody tr th:only-of-type {\n",
       "        vertical-align: middle;\n",
       "    }\n",
       "\n",
       "    .dataframe tbody tr th {\n",
       "        vertical-align: top;\n",
       "    }\n",
       "\n",
       "    .dataframe thead th {\n",
       "        text-align: right;\n",
       "    }\n",
       "</style>\n",
       "<table border=\"1\" class=\"dataframe\">\n",
       "  <thead>\n",
       "    <tr style=\"text-align: right;\">\n",
       "      <th></th>\n",
       "      <th>week</th>\n",
       "      <th>month</th>\n",
       "      <th>quarter</th>\n",
       "    </tr>\n",
       "  </thead>\n",
       "  <tbody>\n",
       "    <tr>\n",
       "      <th>0</th>\n",
       "      <td>1</td>\n",
       "      <td>1.0</td>\n",
       "      <td>1.0</td>\n",
       "    </tr>\n",
       "    <tr>\n",
       "      <th>1</th>\n",
       "      <td>2</td>\n",
       "      <td>1.0</td>\n",
       "      <td>1.0</td>\n",
       "    </tr>\n",
       "    <tr>\n",
       "      <th>2</th>\n",
       "      <td>3</td>\n",
       "      <td>1.0</td>\n",
       "      <td>1.0</td>\n",
       "    </tr>\n",
       "    <tr>\n",
       "      <th>3</th>\n",
       "      <td>4</td>\n",
       "      <td>1.0</td>\n",
       "      <td>1.0</td>\n",
       "    </tr>\n",
       "    <tr>\n",
       "      <th>4</th>\n",
       "      <td>5</td>\n",
       "      <td>2.0</td>\n",
       "      <td>1.0</td>\n",
       "    </tr>\n",
       "  </tbody>\n",
       "</table>\n",
       "</div>"
      ],
      "text/plain": [
       "   week  month  quarter\n",
       "0     1    1.0      1.0\n",
       "1     2    1.0      1.0\n",
       "2     3    1.0      1.0\n",
       "3     4    1.0      1.0\n",
       "4     5    2.0      1.0"
      ]
     },
     "execution_count": 8,
     "metadata": {},
     "output_type": "execute_result"
    }
   ],
   "source": [
    "week_map_pd.head()"
   ]
  },
  {
   "cell_type": "code",
   "execution_count": 9,
   "metadata": {},
   "outputs": [
    {
     "data": {
      "text/plain": [
       "Index(['id', 'week', 'center_id', 'meal_id', 'checkout_price', 'base_price',\n",
       "       'emailer_for_promotion', 'homepage_featured', 'num_orders'],\n",
       "      dtype='object')"
      ]
     },
     "execution_count": 9,
     "metadata": {},
     "output_type": "execute_result"
    }
   ],
   "source": [
    "train_pd.columns"
   ]
  },
  {
   "cell_type": "code",
   "execution_count": 10,
   "metadata": {},
   "outputs": [],
   "source": [
    "def create_additional_features(data):\n",
    "    data.sort_values([\"week\", \"center_id\", \"meal_id\"], ascending=True, inplace=True)\n",
    "    data.loc[:, \"base_minus_checkout\"] = np.abs(data.base_price - data.checkout_price)\n",
    "    data.loc[:, \"cuisine_category\"] = data[\"cuisine\"] + \"-\" + data[\"category\"]\n",
    "    del data[\"category\"]\n",
    "    del data[\"cuisine\"]\n",
    "    center_meal_agg = data.groupby([\"center_id\", \"meal_id\"]).agg(\n",
    "        {\"base_minus_checkout\": [\"mean\", \"std\", \"max\"]})\n",
    "    center_meal_agg.columns = ['{}_{}'.format(col0, col1) \n",
    "                               for col0, col1 in center_meal_agg.columns.ravel()]\n",
    "    center_meal_agg.reset_index(inplace=True)\n",
    "    data = pd.merge(data, center_meal_agg, on=[\"center_id\", \"meal_id\"], how=\"inner\")\n",
    "    data.loc[:, \"base_lt_checkout\"] = data[\"base_price\"] < data[\"checkout_price\"]    \n",
    "    data.loc[:, \"base_gt_checkout\"] = data[\"base_price\"] > data[\"checkout_price\"]    \n",
    "    return data"
   ]
  },
  {
   "cell_type": "code",
   "execution_count": 11,
   "metadata": {},
   "outputs": [],
   "source": [
    "def correct_dtypes(data, type_dict, is_ohe=False):\n",
    "    for type_ in type_dict:\n",
    "        print(\"Processing Type - \", type_)\n",
    "        for col in type_dict[type_]:\n",
    "            print(\"processing Column - \", col)\n",
    "            if type_ == \"bool\":\n",
    "                data.loc[:, col] = data[col].astype('bool')\n",
    "            elif type_ == \"cat\":\n",
    "                if is_ohe:\n",
    "                    print(\"Creating One Hot Encodings...\")\n",
    "                    data = pd.concat([data, pd.get_dummies(data[col])], axis=1)\n",
    "                    del data[col]\n",
    "                else:\n",
    "                    print(\"Converting to Categorical data types...\")\n",
    "                    data.loc[:, col] = pd.Categorical(data[col])\n",
    "    return data"
   ]
  },
  {
   "cell_type": "code",
   "execution_count": 29,
   "metadata": {},
   "outputs": [],
   "source": [
    "def get_time_series_feat(data, is_test=False):\n",
    "    old_length = len(data)\n",
    "    data = pd.merge(data, week_map_pd, on=\"week\", how=\"inner\")\n",
    "    new_length = len(data)\n",
    "    assert (old_length == new_length), \"Change in the Dataframe length after including Month & Quarter\"\n",
    "    if is_test:\n",
    "        return data\n",
    "    else:\n",
    "        monthly_order_agg = data.groupby([\"month\", \"center_id\", \"meal_id\"]).agg({\"num_orders\": \"mean\"}).rename(\n",
    "            columns={\"num_orders\": \"num_order_monthly_mean\"}).reset_index()\n",
    "        quarterly_order_agg = data.groupby([\"quarter\", \"center_id\", \"meal_id\"]).agg({\"num_orders\": \"mean\"}).rename(\n",
    "            columns={\"num_orders\": \"num_order_quarterly_mean\"}).reset_index()\n",
    "        return data, monthly_order_agg, quarterly_order_agg"
   ]
  },
  {
   "cell_type": "code",
   "execution_count": 13,
   "metadata": {},
   "outputs": [],
   "source": [
    "# temp = get_time_series_feat(train_pd)\n",
    "# get_average(13)"
   ]
  },
  {
   "cell_type": "code",
   "execution_count": 14,
   "metadata": {},
   "outputs": [],
   "source": [
    "def get_window(window, stop, start=1):\n",
    "    start = start\n",
    "    while start <= stop:\n",
    "        if stop - start < window:\n",
    "            yield (start, stop)\n",
    "        else:\n",
    "            yield (start, start + window)\n",
    "        start = start + window\n",
    "\n",
    "\n",
    "def get_average(window, start=1, stop=end_week+1):\n",
    "    windows_list = get_window(window, stop, start)\n",
    "    window_week_map = {}\n",
    "    for counter, range_ in enumerate(windows_list):\n",
    "        start, stop = range_\n",
    "        window_week_map[counter + 1] = list(range(start, stop))\n",
    "    return window_week_map"
   ]
  },
  {
   "cell_type": "code",
   "execution_count": 15,
   "metadata": {},
   "outputs": [
    {
     "name": "stdout",
     "output_type": "stream",
     "text": [
      "All the data merged shape -  (456548, 15)\n"
     ]
    }
   ],
   "source": [
    "dtypes_dict = {'bool': [\"emailer_for_promotion\", \"homepage_featured\"],\n",
    "               'cat': [\"cuisine_category\", \"center_type\"]}\n",
    "joined_pd = pd.merge(train_pd, meal_info_pd, on=\"meal_id\", how=\"left\")\n",
    "joined_pd = pd.merge(joined_pd, fc_info_pd, on=\"center_id\", how=\"left\")\n",
    "joined_pd.sort_values([\"week\", \"center_id\", \"meal_id\"], ascending=True, inplace=True)\n",
    "print(\"All the data merged shape - \", joined_pd.shape)\n",
    "joined_pd = create_additional_features(joined_pd)"
   ]
  },
  {
   "cell_type": "code",
   "execution_count": 16,
   "metadata": {},
   "outputs": [
    {
     "name": "stdout",
     "output_type": "stream",
     "text": [
      "Processing Type -  bool\n",
      "processing Column -  emailer_for_promotion\n",
      "processing Column -  homepage_featured\n",
      "Processing Type -  cat\n",
      "processing Column -  cuisine_category\n",
      "Creating One Hot Encodings...\n",
      "processing Column -  center_type\n",
      "Creating One Hot Encodings...\n"
     ]
    }
   ],
   "source": [
    "joined_pd = correct_dtypes(joined_pd, dtypes_dict, is_ohe=True)"
   ]
  },
  {
   "cell_type": "code",
   "execution_count": 17,
   "metadata": {},
   "outputs": [
    {
     "data": {
      "text/plain": [
       "(456548, 38)"
      ]
     },
     "execution_count": 17,
     "metadata": {},
     "output_type": "execute_result"
    }
   ],
   "source": [
    "joined_pd.shape"
   ]
  },
  {
   "cell_type": "code",
   "execution_count": 20,
   "metadata": {},
   "outputs": [
    {
     "data": {
      "text/html": [
       "<div>\n",
       "<style scoped>\n",
       "    .dataframe tbody tr th:only-of-type {\n",
       "        vertical-align: middle;\n",
       "    }\n",
       "\n",
       "    .dataframe tbody tr th {\n",
       "        vertical-align: top;\n",
       "    }\n",
       "\n",
       "    .dataframe thead th {\n",
       "        text-align: right;\n",
       "    }\n",
       "</style>\n",
       "<table border=\"1\" class=\"dataframe\">\n",
       "  <thead>\n",
       "    <tr style=\"text-align: right;\">\n",
       "      <th></th>\n",
       "      <th>0</th>\n",
       "      <th>1</th>\n",
       "      <th>2</th>\n",
       "      <th>3</th>\n",
       "      <th>4</th>\n",
       "    </tr>\n",
       "  </thead>\n",
       "  <tbody>\n",
       "    <tr>\n",
       "      <th>id</th>\n",
       "      <td>1436842</td>\n",
       "      <td>1205013</td>\n",
       "      <td>1447751</td>\n",
       "      <td>1014968</td>\n",
       "      <td>1003563</td>\n",
       "    </tr>\n",
       "    <tr>\n",
       "      <th>week</th>\n",
       "      <td>1</td>\n",
       "      <td>2</td>\n",
       "      <td>3</td>\n",
       "      <td>4</td>\n",
       "      <td>5</td>\n",
       "    </tr>\n",
       "    <tr>\n",
       "      <th>center_id</th>\n",
       "      <td>10</td>\n",
       "      <td>10</td>\n",
       "      <td>10</td>\n",
       "      <td>10</td>\n",
       "      <td>10</td>\n",
       "    </tr>\n",
       "    <tr>\n",
       "      <th>meal_id</th>\n",
       "      <td>1062</td>\n",
       "      <td>1062</td>\n",
       "      <td>1062</td>\n",
       "      <td>1062</td>\n",
       "      <td>1062</td>\n",
       "    </tr>\n",
       "    <tr>\n",
       "      <th>checkout_price</th>\n",
       "      <td>181.39</td>\n",
       "      <td>183.36</td>\n",
       "      <td>184.36</td>\n",
       "      <td>182.36</td>\n",
       "      <td>183.39</td>\n",
       "    </tr>\n",
       "    <tr>\n",
       "      <th>base_price</th>\n",
       "      <td>181.39</td>\n",
       "      <td>182.36</td>\n",
       "      <td>182.36</td>\n",
       "      <td>183.36</td>\n",
       "      <td>181.39</td>\n",
       "    </tr>\n",
       "    <tr>\n",
       "      <th>emailer_for_promotion</th>\n",
       "      <td>False</td>\n",
       "      <td>False</td>\n",
       "      <td>False</td>\n",
       "      <td>False</td>\n",
       "      <td>False</td>\n",
       "    </tr>\n",
       "    <tr>\n",
       "      <th>homepage_featured</th>\n",
       "      <td>False</td>\n",
       "      <td>False</td>\n",
       "      <td>False</td>\n",
       "      <td>False</td>\n",
       "      <td>False</td>\n",
       "    </tr>\n",
       "    <tr>\n",
       "      <th>num_orders</th>\n",
       "      <td>865</td>\n",
       "      <td>782</td>\n",
       "      <td>851</td>\n",
       "      <td>1202</td>\n",
       "      <td>958</td>\n",
       "    </tr>\n",
       "    <tr>\n",
       "      <th>city_code</th>\n",
       "      <td>590</td>\n",
       "      <td>590</td>\n",
       "      <td>590</td>\n",
       "      <td>590</td>\n",
       "      <td>590</td>\n",
       "    </tr>\n",
       "    <tr>\n",
       "      <th>region_code</th>\n",
       "      <td>56</td>\n",
       "      <td>56</td>\n",
       "      <td>56</td>\n",
       "      <td>56</td>\n",
       "      <td>56</td>\n",
       "    </tr>\n",
       "    <tr>\n",
       "      <th>op_area</th>\n",
       "      <td>6.3</td>\n",
       "      <td>6.3</td>\n",
       "      <td>6.3</td>\n",
       "      <td>6.3</td>\n",
       "      <td>6.3</td>\n",
       "    </tr>\n",
       "    <tr>\n",
       "      <th>base_minus_checkout</th>\n",
       "      <td>0</td>\n",
       "      <td>1</td>\n",
       "      <td>2</td>\n",
       "      <td>1</td>\n",
       "      <td>2</td>\n",
       "    </tr>\n",
       "    <tr>\n",
       "      <th>base_minus_checkout_mean</th>\n",
       "      <td>7.16503</td>\n",
       "      <td>7.16503</td>\n",
       "      <td>7.16503</td>\n",
       "      <td>7.16503</td>\n",
       "      <td>7.16503</td>\n",
       "    </tr>\n",
       "    <tr>\n",
       "      <th>base_minus_checkout_std</th>\n",
       "      <td>10.4027</td>\n",
       "      <td>10.4027</td>\n",
       "      <td>10.4027</td>\n",
       "      <td>10.4027</td>\n",
       "      <td>10.4027</td>\n",
       "    </tr>\n",
       "    <tr>\n",
       "      <th>base_minus_checkout_max</th>\n",
       "      <td>50.41</td>\n",
       "      <td>50.41</td>\n",
       "      <td>50.41</td>\n",
       "      <td>50.41</td>\n",
       "      <td>50.41</td>\n",
       "    </tr>\n",
       "    <tr>\n",
       "      <th>base_lt_checkout</th>\n",
       "      <td>False</td>\n",
       "      <td>True</td>\n",
       "      <td>True</td>\n",
       "      <td>False</td>\n",
       "      <td>True</td>\n",
       "    </tr>\n",
       "    <tr>\n",
       "      <th>base_gt_checkout</th>\n",
       "      <td>False</td>\n",
       "      <td>False</td>\n",
       "      <td>False</td>\n",
       "      <td>True</td>\n",
       "      <td>False</td>\n",
       "    </tr>\n",
       "    <tr>\n",
       "      <th>Continental-Beverages</th>\n",
       "      <td>0</td>\n",
       "      <td>0</td>\n",
       "      <td>0</td>\n",
       "      <td>0</td>\n",
       "      <td>0</td>\n",
       "    </tr>\n",
       "    <tr>\n",
       "      <th>Continental-Fish</th>\n",
       "      <td>0</td>\n",
       "      <td>0</td>\n",
       "      <td>0</td>\n",
       "      <td>0</td>\n",
       "      <td>0</td>\n",
       "    </tr>\n",
       "    <tr>\n",
       "      <th>Continental-Pizza</th>\n",
       "      <td>0</td>\n",
       "      <td>0</td>\n",
       "      <td>0</td>\n",
       "      <td>0</td>\n",
       "      <td>0</td>\n",
       "    </tr>\n",
       "    <tr>\n",
       "      <th>Continental-Seafood</th>\n",
       "      <td>0</td>\n",
       "      <td>0</td>\n",
       "      <td>0</td>\n",
       "      <td>0</td>\n",
       "      <td>0</td>\n",
       "    </tr>\n",
       "    <tr>\n",
       "      <th>Indian-Beverages</th>\n",
       "      <td>0</td>\n",
       "      <td>0</td>\n",
       "      <td>0</td>\n",
       "      <td>0</td>\n",
       "      <td>0</td>\n",
       "    </tr>\n",
       "    <tr>\n",
       "      <th>Indian-Biryani</th>\n",
       "      <td>0</td>\n",
       "      <td>0</td>\n",
       "      <td>0</td>\n",
       "      <td>0</td>\n",
       "      <td>0</td>\n",
       "    </tr>\n",
       "    <tr>\n",
       "      <th>Indian-Desert</th>\n",
       "      <td>0</td>\n",
       "      <td>0</td>\n",
       "      <td>0</td>\n",
       "      <td>0</td>\n",
       "      <td>0</td>\n",
       "    </tr>\n",
       "    <tr>\n",
       "      <th>Indian-Rice Bowl</th>\n",
       "      <td>0</td>\n",
       "      <td>0</td>\n",
       "      <td>0</td>\n",
       "      <td>0</td>\n",
       "      <td>0</td>\n",
       "    </tr>\n",
       "    <tr>\n",
       "      <th>Italian-Beverages</th>\n",
       "      <td>1</td>\n",
       "      <td>1</td>\n",
       "      <td>1</td>\n",
       "      <td>1</td>\n",
       "      <td>1</td>\n",
       "    </tr>\n",
       "    <tr>\n",
       "      <th>Italian-Pasta</th>\n",
       "      <td>0</td>\n",
       "      <td>0</td>\n",
       "      <td>0</td>\n",
       "      <td>0</td>\n",
       "      <td>0</td>\n",
       "    </tr>\n",
       "    <tr>\n",
       "      <th>Italian-Salad</th>\n",
       "      <td>0</td>\n",
       "      <td>0</td>\n",
       "      <td>0</td>\n",
       "      <td>0</td>\n",
       "      <td>0</td>\n",
       "    </tr>\n",
       "    <tr>\n",
       "      <th>Italian-Sandwich</th>\n",
       "      <td>0</td>\n",
       "      <td>0</td>\n",
       "      <td>0</td>\n",
       "      <td>0</td>\n",
       "      <td>0</td>\n",
       "    </tr>\n",
       "    <tr>\n",
       "      <th>Thai-Beverages</th>\n",
       "      <td>0</td>\n",
       "      <td>0</td>\n",
       "      <td>0</td>\n",
       "      <td>0</td>\n",
       "      <td>0</td>\n",
       "    </tr>\n",
       "    <tr>\n",
       "      <th>Thai-Extras</th>\n",
       "      <td>0</td>\n",
       "      <td>0</td>\n",
       "      <td>0</td>\n",
       "      <td>0</td>\n",
       "      <td>0</td>\n",
       "    </tr>\n",
       "    <tr>\n",
       "      <th>Thai-Other Snacks</th>\n",
       "      <td>0</td>\n",
       "      <td>0</td>\n",
       "      <td>0</td>\n",
       "      <td>0</td>\n",
       "      <td>0</td>\n",
       "    </tr>\n",
       "    <tr>\n",
       "      <th>Thai-Soup</th>\n",
       "      <td>0</td>\n",
       "      <td>0</td>\n",
       "      <td>0</td>\n",
       "      <td>0</td>\n",
       "      <td>0</td>\n",
       "    </tr>\n",
       "    <tr>\n",
       "      <th>Thai-Starters</th>\n",
       "      <td>0</td>\n",
       "      <td>0</td>\n",
       "      <td>0</td>\n",
       "      <td>0</td>\n",
       "      <td>0</td>\n",
       "    </tr>\n",
       "    <tr>\n",
       "      <th>TYPE_A</th>\n",
       "      <td>0</td>\n",
       "      <td>0</td>\n",
       "      <td>0</td>\n",
       "      <td>0</td>\n",
       "      <td>0</td>\n",
       "    </tr>\n",
       "    <tr>\n",
       "      <th>TYPE_B</th>\n",
       "      <td>1</td>\n",
       "      <td>1</td>\n",
       "      <td>1</td>\n",
       "      <td>1</td>\n",
       "      <td>1</td>\n",
       "    </tr>\n",
       "    <tr>\n",
       "      <th>TYPE_C</th>\n",
       "      <td>0</td>\n",
       "      <td>0</td>\n",
       "      <td>0</td>\n",
       "      <td>0</td>\n",
       "      <td>0</td>\n",
       "    </tr>\n",
       "  </tbody>\n",
       "</table>\n",
       "</div>"
      ],
      "text/plain": [
       "                                0        1        2        3        4\n",
       "id                        1436842  1205013  1447751  1014968  1003563\n",
       "week                            1        2        3        4        5\n",
       "center_id                      10       10       10       10       10\n",
       "meal_id                      1062     1062     1062     1062     1062\n",
       "checkout_price             181.39   183.36   184.36   182.36   183.39\n",
       "base_price                 181.39   182.36   182.36   183.36   181.39\n",
       "emailer_for_promotion       False    False    False    False    False\n",
       "homepage_featured           False    False    False    False    False\n",
       "num_orders                    865      782      851     1202      958\n",
       "city_code                     590      590      590      590      590\n",
       "region_code                    56       56       56       56       56\n",
       "op_area                       6.3      6.3      6.3      6.3      6.3\n",
       "base_minus_checkout             0        1        2        1        2\n",
       "base_minus_checkout_mean  7.16503  7.16503  7.16503  7.16503  7.16503\n",
       "base_minus_checkout_std   10.4027  10.4027  10.4027  10.4027  10.4027\n",
       "base_minus_checkout_max     50.41    50.41    50.41    50.41    50.41\n",
       "base_lt_checkout            False     True     True    False     True\n",
       "base_gt_checkout            False    False    False     True    False\n",
       "Continental-Beverages           0        0        0        0        0\n",
       "Continental-Fish                0        0        0        0        0\n",
       "Continental-Pizza               0        0        0        0        0\n",
       "Continental-Seafood             0        0        0        0        0\n",
       "Indian-Beverages                0        0        0        0        0\n",
       "Indian-Biryani                  0        0        0        0        0\n",
       "Indian-Desert                   0        0        0        0        0\n",
       "Indian-Rice Bowl                0        0        0        0        0\n",
       "Italian-Beverages               1        1        1        1        1\n",
       "Italian-Pasta                   0        0        0        0        0\n",
       "Italian-Salad                   0        0        0        0        0\n",
       "Italian-Sandwich                0        0        0        0        0\n",
       "Thai-Beverages                  0        0        0        0        0\n",
       "Thai-Extras                     0        0        0        0        0\n",
       "Thai-Other Snacks               0        0        0        0        0\n",
       "Thai-Soup                       0        0        0        0        0\n",
       "Thai-Starters                   0        0        0        0        0\n",
       "TYPE_A                          0        0        0        0        0\n",
       "TYPE_B                          1        1        1        1        1\n",
       "TYPE_C                          0        0        0        0        0"
      ]
     },
     "execution_count": 20,
     "metadata": {},
     "output_type": "execute_result"
    }
   ],
   "source": [
    "joined_pd.head().T"
   ]
  },
  {
   "cell_type": "code",
   "execution_count": 22,
   "metadata": {},
   "outputs": [],
   "source": [
    "joined_pd, month_order_agg, quarter_order_agg = get_time_series_feat(joined_pd)\n",
    "joined_pd = pd.merge(joined_pd, month_order_agg, on=[\"month\", \"center_id\", \"meal_id\"], how=\"left\")\n",
    "joined_pd = pd.merge(joined_pd, quarter_order_agg, on=[\"quarter\", \"center_id\", \"meal_id\"], how=\"left\")"
   ]
  },
  {
   "cell_type": "code",
   "execution_count": 23,
   "metadata": {},
   "outputs": [
    {
     "data": {
      "text/plain": [
       "(456548, 42)"
      ]
     },
     "execution_count": 23,
     "metadata": {},
     "output_type": "execute_result"
    }
   ],
   "source": [
    "joined_pd.shape"
   ]
  },
  {
   "cell_type": "code",
   "execution_count": 25,
   "metadata": {},
   "outputs": [
    {
     "data": {
      "text/html": [
       "<div>\n",
       "<style scoped>\n",
       "    .dataframe tbody tr th:only-of-type {\n",
       "        vertical-align: middle;\n",
       "    }\n",
       "\n",
       "    .dataframe tbody tr th {\n",
       "        vertical-align: top;\n",
       "    }\n",
       "\n",
       "    .dataframe thead th {\n",
       "        text-align: right;\n",
       "    }\n",
       "</style>\n",
       "<table border=\"1\" class=\"dataframe\">\n",
       "  <thead>\n",
       "    <tr style=\"text-align: right;\">\n",
       "      <th></th>\n",
       "      <th>0</th>\n",
       "      <th>1</th>\n",
       "      <th>2</th>\n",
       "      <th>3</th>\n",
       "      <th>4</th>\n",
       "    </tr>\n",
       "  </thead>\n",
       "  <tbody>\n",
       "    <tr>\n",
       "      <th>id</th>\n",
       "      <td>1436842</td>\n",
       "      <td>1142165</td>\n",
       "      <td>1421626</td>\n",
       "      <td>1260561</td>\n",
       "      <td>1411421</td>\n",
       "    </tr>\n",
       "    <tr>\n",
       "      <th>week</th>\n",
       "      <td>1</td>\n",
       "      <td>1</td>\n",
       "      <td>1</td>\n",
       "      <td>1</td>\n",
       "      <td>1</td>\n",
       "    </tr>\n",
       "    <tr>\n",
       "      <th>center_id</th>\n",
       "      <td>10</td>\n",
       "      <td>10</td>\n",
       "      <td>10</td>\n",
       "      <td>10</td>\n",
       "      <td>10</td>\n",
       "    </tr>\n",
       "    <tr>\n",
       "      <th>meal_id</th>\n",
       "      <td>1062</td>\n",
       "      <td>1109</td>\n",
       "      <td>1198</td>\n",
       "      <td>1207</td>\n",
       "      <td>1216</td>\n",
       "    </tr>\n",
       "    <tr>\n",
       "      <th>checkout_price</th>\n",
       "      <td>181.39</td>\n",
       "      <td>231.86</td>\n",
       "      <td>129.04</td>\n",
       "      <td>322.07</td>\n",
       "      <td>455.93</td>\n",
       "    </tr>\n",
       "    <tr>\n",
       "      <th>base_price</th>\n",
       "      <td>181.39</td>\n",
       "      <td>276.48</td>\n",
       "      <td>196</td>\n",
       "      <td>382.18</td>\n",
       "      <td>454.93</td>\n",
       "    </tr>\n",
       "    <tr>\n",
       "      <th>emailer_for_promotion</th>\n",
       "      <td>False</td>\n",
       "      <td>True</td>\n",
       "      <td>False</td>\n",
       "      <td>False</td>\n",
       "      <td>False</td>\n",
       "    </tr>\n",
       "    <tr>\n",
       "      <th>homepage_featured</th>\n",
       "      <td>False</td>\n",
       "      <td>False</td>\n",
       "      <td>False</td>\n",
       "      <td>False</td>\n",
       "      <td>False</td>\n",
       "    </tr>\n",
       "    <tr>\n",
       "      <th>num_orders</th>\n",
       "      <td>865</td>\n",
       "      <td>2672</td>\n",
       "      <td>269</td>\n",
       "      <td>769</td>\n",
       "      <td>54</td>\n",
       "    </tr>\n",
       "    <tr>\n",
       "      <th>city_code</th>\n",
       "      <td>590</td>\n",
       "      <td>590</td>\n",
       "      <td>590</td>\n",
       "      <td>590</td>\n",
       "      <td>590</td>\n",
       "    </tr>\n",
       "    <tr>\n",
       "      <th>region_code</th>\n",
       "      <td>56</td>\n",
       "      <td>56</td>\n",
       "      <td>56</td>\n",
       "      <td>56</td>\n",
       "      <td>56</td>\n",
       "    </tr>\n",
       "    <tr>\n",
       "      <th>op_area</th>\n",
       "      <td>6.3</td>\n",
       "      <td>6.3</td>\n",
       "      <td>6.3</td>\n",
       "      <td>6.3</td>\n",
       "      <td>6.3</td>\n",
       "    </tr>\n",
       "    <tr>\n",
       "      <th>base_minus_checkout</th>\n",
       "      <td>0</td>\n",
       "      <td>44.62</td>\n",
       "      <td>66.96</td>\n",
       "      <td>60.11</td>\n",
       "      <td>1</td>\n",
       "    </tr>\n",
       "    <tr>\n",
       "      <th>base_minus_checkout_mean</th>\n",
       "      <td>7.16503</td>\n",
       "      <td>27.2453</td>\n",
       "      <td>21.4509</td>\n",
       "      <td>44.2064</td>\n",
       "      <td>21.4057</td>\n",
       "    </tr>\n",
       "    <tr>\n",
       "      <th>base_minus_checkout_std</th>\n",
       "      <td>10.4027</td>\n",
       "      <td>35.1938</td>\n",
       "      <td>23.8007</td>\n",
       "      <td>59.8631</td>\n",
       "      <td>37.0186</td>\n",
       "    </tr>\n",
       "    <tr>\n",
       "      <th>base_minus_checkout_max</th>\n",
       "      <td>50.41</td>\n",
       "      <td>148.41</td>\n",
       "      <td>92.18</td>\n",
       "      <td>190.09</td>\n",
       "      <td>127.1</td>\n",
       "    </tr>\n",
       "    <tr>\n",
       "      <th>base_lt_checkout</th>\n",
       "      <td>False</td>\n",
       "      <td>False</td>\n",
       "      <td>False</td>\n",
       "      <td>False</td>\n",
       "      <td>True</td>\n",
       "    </tr>\n",
       "    <tr>\n",
       "      <th>base_gt_checkout</th>\n",
       "      <td>False</td>\n",
       "      <td>True</td>\n",
       "      <td>True</td>\n",
       "      <td>True</td>\n",
       "      <td>False</td>\n",
       "    </tr>\n",
       "    <tr>\n",
       "      <th>Continental-Beverages</th>\n",
       "      <td>0</td>\n",
       "      <td>0</td>\n",
       "      <td>0</td>\n",
       "      <td>1</td>\n",
       "      <td>0</td>\n",
       "    </tr>\n",
       "    <tr>\n",
       "      <th>Continental-Fish</th>\n",
       "      <td>0</td>\n",
       "      <td>0</td>\n",
       "      <td>0</td>\n",
       "      <td>0</td>\n",
       "      <td>0</td>\n",
       "    </tr>\n",
       "    <tr>\n",
       "      <th>Continental-Pizza</th>\n",
       "      <td>0</td>\n",
       "      <td>0</td>\n",
       "      <td>0</td>\n",
       "      <td>0</td>\n",
       "      <td>0</td>\n",
       "    </tr>\n",
       "    <tr>\n",
       "      <th>Continental-Seafood</th>\n",
       "      <td>0</td>\n",
       "      <td>0</td>\n",
       "      <td>0</td>\n",
       "      <td>0</td>\n",
       "      <td>0</td>\n",
       "    </tr>\n",
       "    <tr>\n",
       "      <th>Indian-Beverages</th>\n",
       "      <td>0</td>\n",
       "      <td>0</td>\n",
       "      <td>0</td>\n",
       "      <td>0</td>\n",
       "      <td>0</td>\n",
       "    </tr>\n",
       "    <tr>\n",
       "      <th>Indian-Biryani</th>\n",
       "      <td>0</td>\n",
       "      <td>0</td>\n",
       "      <td>0</td>\n",
       "      <td>0</td>\n",
       "      <td>0</td>\n",
       "    </tr>\n",
       "    <tr>\n",
       "      <th>Indian-Desert</th>\n",
       "      <td>0</td>\n",
       "      <td>0</td>\n",
       "      <td>0</td>\n",
       "      <td>0</td>\n",
       "      <td>0</td>\n",
       "    </tr>\n",
       "    <tr>\n",
       "      <th>Indian-Rice Bowl</th>\n",
       "      <td>0</td>\n",
       "      <td>1</td>\n",
       "      <td>0</td>\n",
       "      <td>0</td>\n",
       "      <td>0</td>\n",
       "    </tr>\n",
       "    <tr>\n",
       "      <th>Italian-Beverages</th>\n",
       "      <td>1</td>\n",
       "      <td>0</td>\n",
       "      <td>0</td>\n",
       "      <td>0</td>\n",
       "      <td>0</td>\n",
       "    </tr>\n",
       "    <tr>\n",
       "      <th>Italian-Pasta</th>\n",
       "      <td>0</td>\n",
       "      <td>0</td>\n",
       "      <td>0</td>\n",
       "      <td>0</td>\n",
       "      <td>1</td>\n",
       "    </tr>\n",
       "    <tr>\n",
       "      <th>Italian-Salad</th>\n",
       "      <td>0</td>\n",
       "      <td>0</td>\n",
       "      <td>0</td>\n",
       "      <td>0</td>\n",
       "      <td>0</td>\n",
       "    </tr>\n",
       "    <tr>\n",
       "      <th>Italian-Sandwich</th>\n",
       "      <td>0</td>\n",
       "      <td>0</td>\n",
       "      <td>0</td>\n",
       "      <td>0</td>\n",
       "      <td>0</td>\n",
       "    </tr>\n",
       "    <tr>\n",
       "      <th>Thai-Beverages</th>\n",
       "      <td>0</td>\n",
       "      <td>0</td>\n",
       "      <td>0</td>\n",
       "      <td>0</td>\n",
       "      <td>0</td>\n",
       "    </tr>\n",
       "    <tr>\n",
       "      <th>Thai-Extras</th>\n",
       "      <td>0</td>\n",
       "      <td>0</td>\n",
       "      <td>1</td>\n",
       "      <td>0</td>\n",
       "      <td>0</td>\n",
       "    </tr>\n",
       "    <tr>\n",
       "      <th>Thai-Other Snacks</th>\n",
       "      <td>0</td>\n",
       "      <td>0</td>\n",
       "      <td>0</td>\n",
       "      <td>0</td>\n",
       "      <td>0</td>\n",
       "    </tr>\n",
       "    <tr>\n",
       "      <th>Thai-Soup</th>\n",
       "      <td>0</td>\n",
       "      <td>0</td>\n",
       "      <td>0</td>\n",
       "      <td>0</td>\n",
       "      <td>0</td>\n",
       "    </tr>\n",
       "    <tr>\n",
       "      <th>Thai-Starters</th>\n",
       "      <td>0</td>\n",
       "      <td>0</td>\n",
       "      <td>0</td>\n",
       "      <td>0</td>\n",
       "      <td>0</td>\n",
       "    </tr>\n",
       "    <tr>\n",
       "      <th>TYPE_A</th>\n",
       "      <td>0</td>\n",
       "      <td>0</td>\n",
       "      <td>0</td>\n",
       "      <td>0</td>\n",
       "      <td>0</td>\n",
       "    </tr>\n",
       "    <tr>\n",
       "      <th>TYPE_B</th>\n",
       "      <td>1</td>\n",
       "      <td>1</td>\n",
       "      <td>1</td>\n",
       "      <td>1</td>\n",
       "      <td>1</td>\n",
       "    </tr>\n",
       "    <tr>\n",
       "      <th>TYPE_C</th>\n",
       "      <td>0</td>\n",
       "      <td>0</td>\n",
       "      <td>0</td>\n",
       "      <td>0</td>\n",
       "      <td>0</td>\n",
       "    </tr>\n",
       "    <tr>\n",
       "      <th>month</th>\n",
       "      <td>1</td>\n",
       "      <td>1</td>\n",
       "      <td>1</td>\n",
       "      <td>1</td>\n",
       "      <td>1</td>\n",
       "    </tr>\n",
       "    <tr>\n",
       "      <th>quarter</th>\n",
       "      <td>1</td>\n",
       "      <td>1</td>\n",
       "      <td>1</td>\n",
       "      <td>1</td>\n",
       "      <td>1</td>\n",
       "    </tr>\n",
       "    <tr>\n",
       "      <th>num_order_monthly_mean</th>\n",
       "      <td>925</td>\n",
       "      <td>1768.25</td>\n",
       "      <td>266.5</td>\n",
       "      <td>526</td>\n",
       "      <td>118.5</td>\n",
       "    </tr>\n",
       "    <tr>\n",
       "      <th>num_order_quarterly_mean</th>\n",
       "      <td>1144.69</td>\n",
       "      <td>1750.77</td>\n",
       "      <td>306.308</td>\n",
       "      <td>300.231</td>\n",
       "      <td>159.833</td>\n",
       "    </tr>\n",
       "  </tbody>\n",
       "</table>\n",
       "</div>"
      ],
      "text/plain": [
       "                                0        1        2        3        4\n",
       "id                        1436842  1142165  1421626  1260561  1411421\n",
       "week                            1        1        1        1        1\n",
       "center_id                      10       10       10       10       10\n",
       "meal_id                      1062     1109     1198     1207     1216\n",
       "checkout_price             181.39   231.86   129.04   322.07   455.93\n",
       "base_price                 181.39   276.48      196   382.18   454.93\n",
       "emailer_for_promotion       False     True    False    False    False\n",
       "homepage_featured           False    False    False    False    False\n",
       "num_orders                    865     2672      269      769       54\n",
       "city_code                     590      590      590      590      590\n",
       "region_code                    56       56       56       56       56\n",
       "op_area                       6.3      6.3      6.3      6.3      6.3\n",
       "base_minus_checkout             0    44.62    66.96    60.11        1\n",
       "base_minus_checkout_mean  7.16503  27.2453  21.4509  44.2064  21.4057\n",
       "base_minus_checkout_std   10.4027  35.1938  23.8007  59.8631  37.0186\n",
       "base_minus_checkout_max     50.41   148.41    92.18   190.09    127.1\n",
       "base_lt_checkout            False    False    False    False     True\n",
       "base_gt_checkout            False     True     True     True    False\n",
       "Continental-Beverages           0        0        0        1        0\n",
       "Continental-Fish                0        0        0        0        0\n",
       "Continental-Pizza               0        0        0        0        0\n",
       "Continental-Seafood             0        0        0        0        0\n",
       "Indian-Beverages                0        0        0        0        0\n",
       "Indian-Biryani                  0        0        0        0        0\n",
       "Indian-Desert                   0        0        0        0        0\n",
       "Indian-Rice Bowl                0        1        0        0        0\n",
       "Italian-Beverages               1        0        0        0        0\n",
       "Italian-Pasta                   0        0        0        0        1\n",
       "Italian-Salad                   0        0        0        0        0\n",
       "Italian-Sandwich                0        0        0        0        0\n",
       "Thai-Beverages                  0        0        0        0        0\n",
       "Thai-Extras                     0        0        1        0        0\n",
       "Thai-Other Snacks               0        0        0        0        0\n",
       "Thai-Soup                       0        0        0        0        0\n",
       "Thai-Starters                   0        0        0        0        0\n",
       "TYPE_A                          0        0        0        0        0\n",
       "TYPE_B                          1        1        1        1        1\n",
       "TYPE_C                          0        0        0        0        0\n",
       "month                           1        1        1        1        1\n",
       "quarter                         1        1        1        1        1\n",
       "num_order_monthly_mean        925  1768.25    266.5      526    118.5\n",
       "num_order_quarterly_mean  1144.69  1750.77  306.308  300.231  159.833"
      ]
     },
     "execution_count": 25,
     "metadata": {},
     "output_type": "execute_result"
    }
   ],
   "source": [
    "joined_pd.head().T"
   ]
  },
  {
   "cell_type": "code",
   "execution_count": 26,
   "metadata": {},
   "outputs": [],
   "source": [
    "# print(joined_pd.month.value_counts(dropna=False))\n",
    "# print(joined_pd.quarter.value_counts(dropna=False))"
   ]
  },
  {
   "cell_type": "code",
   "execution_count": 27,
   "metadata": {},
   "outputs": [
    {
     "name": "stdout",
     "output_type": "stream",
     "text": [
      "All the TEST data merged shape -  (32573, 14)\n"
     ]
    }
   ],
   "source": [
    "joined_test = pd.merge(test_pd, meal_info_pd, on=\"meal_id\", how=\"left\")\n",
    "joined_test = pd.merge(joined_test, fc_info_pd, on=\"center_id\", how=\"left\")\n",
    "joined_test.sort_values([\"week\", \"center_id\", \"meal_id\"], ascending=True, inplace=True)\n",
    "print(\"All the TEST data merged shape - \", joined_test.shape)"
   ]
  },
  {
   "cell_type": "code",
   "execution_count": 28,
   "metadata": {},
   "outputs": [
    {
     "name": "stdout",
     "output_type": "stream",
     "text": [
      "Processing Type -  bool\n",
      "processing Column -  emailer_for_promotion\n",
      "processing Column -  homepage_featured\n",
      "Processing Type -  cat\n",
      "processing Column -  cuisine_category\n",
      "Creating One Hot Encodings...\n",
      "processing Column -  center_type\n",
      "Creating One Hot Encodings...\n"
     ]
    },
    {
     "data": {
      "text/plain": [
       "(32573, 37)"
      ]
     },
     "execution_count": 28,
     "metadata": {},
     "output_type": "execute_result"
    }
   ],
   "source": [
    "joined_test = create_additional_features(joined_test)\n",
    "joined_test = correct_dtypes(joined_test, dtypes_dict, is_ohe=True)\n",
    "joined_test.shape"
   ]
  },
  {
   "cell_type": "code",
   "execution_count": 30,
   "metadata": {},
   "outputs": [],
   "source": [
    "joined_test = get_time_series_feat(joined_test, is_test=True)"
   ]
  },
  {
   "cell_type": "code",
   "execution_count": 31,
   "metadata": {},
   "outputs": [],
   "source": [
    "joined_test = pd.merge(joined_test, month_order_agg, on=[\"month\", \"center_id\", \"meal_id\"], how=\"left\")\n",
    "joined_test = pd.merge(joined_test, quarter_order_agg, on=[\"quarter\", \"center_id\", \"meal_id\"], how=\"left\")"
   ]
  },
  {
   "cell_type": "code",
   "execution_count": 32,
   "metadata": {},
   "outputs": [
    {
     "data": {
      "text/plain": [
       "(32573, 41)"
      ]
     },
     "execution_count": 32,
     "metadata": {},
     "output_type": "execute_result"
    }
   ],
   "source": [
    "joined_test.shape"
   ]
  },
  {
   "cell_type": "code",
   "execution_count": 34,
   "metadata": {},
   "outputs": [],
   "source": [
    "def train_val_index(data, val_weeks=10):\n",
    "    val_start = data.week.max() - val_weeks\n",
    "    data.reset_index(drop=True, inplace=True)\n",
    "    train_index = data[data.week <= val_start].index.tolist()\n",
    "    val_index = data[data.week > val_start].index.tolist()\n",
    "    return train_index, val_index"
   ]
  },
  {
   "cell_type": "code",
   "execution_count": 35,
   "metadata": {},
   "outputs": [],
   "source": [
    "train_records, val_records = train_val_index(joined_pd)"
   ]
  },
  {
   "cell_type": "code",
   "execution_count": 36,
   "metadata": {},
   "outputs": [
    {
     "data": {
      "text/plain": [
       "(423727, 32821)"
      ]
     },
     "execution_count": 36,
     "metadata": {},
     "output_type": "execute_result"
    }
   ],
   "source": [
    "len(train_records), len(val_records)"
   ]
  },
  {
   "cell_type": "code",
   "execution_count": 37,
   "metadata": {},
   "outputs": [],
   "source": [
    "def data_transform(data_pd, rem_cols, is_test=False):\n",
    "    if is_test:\n",
    "        remove_cols = rem_cols\n",
    "        predictor = None\n",
    "    else:\n",
    "        remove_cols = rem_cols + [\"num_orders\"]\n",
    "        # [\"id\", 'week', \"base_price\", \"center_id\", \"meal_id\"]\n",
    "        predictor = \"num_orders\"\n",
    "\n",
    "    req_cols = []\n",
    "    for col in data_pd.columns:\n",
    "        if col not in remove_cols:\n",
    "            req_cols.append(col)\n",
    "    print(\"columns used for prediction - \", req_cols)\n",
    "    dataset1 = data_pd[req_cols]\n",
    "\n",
    "    if is_test:\n",
    "        target1 = None\n",
    "    else:\n",
    "        target1 = data_pd[predictor].values\n",
    "        print(\"Target shape - \", target1.shape)\n",
    "    print(\"Input data shape - \", dataset1.shape)\n",
    "    return dataset1, target1"
   ]
  },
  {
   "cell_type": "code",
   "execution_count": 38,
   "metadata": {},
   "outputs": [
    {
     "data": {
      "text/plain": [
       "(456548, 42)"
      ]
     },
     "execution_count": 38,
     "metadata": {},
     "output_type": "execute_result"
    }
   ],
   "source": [
    "joined_pd.shape"
   ]
  },
  {
   "cell_type": "code",
   "execution_count": 39,
   "metadata": {},
   "outputs": [
    {
     "data": {
      "text/plain": [
       "base_minus_checkout_std    3\n",
       "dtype: int64"
      ]
     },
     "execution_count": 39,
     "metadata": {},
     "output_type": "execute_result"
    }
   ],
   "source": [
    "joined_pd.isnull().sum()[joined_pd.isnull().sum() > 0]"
   ]
  },
  {
   "cell_type": "code",
   "execution_count": 40,
   "metadata": {},
   "outputs": [],
   "source": [
    "joined_pd.base_minus_checkout_std.fillna(0.0, inplace=True)"
   ]
  },
  {
   "cell_type": "code",
   "execution_count": 41,
   "metadata": {
    "scrolled": true
   },
   "outputs": [],
   "source": [
    "# joined_pd[(joined_pd[\"region_code\"] == 85) & \n",
    "#           (joined_pd[\"Continental-Fish\"] == 1) & \n",
    "#           (joined_pd[\"week\"] == 85) & \n",
    "#           (joined_pd[\"TYPE_C\"] == 1)][\"base_minus_checkout_std\"]"
   ]
  },
  {
   "cell_type": "code",
   "execution_count": 32,
   "metadata": {},
   "outputs": [],
   "source": [
    "# joined_pd[joined_pd.base_minus_checkout_std.isnull()].T"
   ]
  },
  {
   "cell_type": "code",
   "execution_count": 43,
   "metadata": {},
   "outputs": [],
   "source": [
    "joined_test.base_minus_checkout_std.fillna(0.0, inplace=True)"
   ]
  },
  {
   "cell_type": "code",
   "execution_count": 44,
   "metadata": {},
   "outputs": [
    {
     "data": {
      "text/plain": [
       "num_order_monthly_mean      23246\n",
       "num_order_quarterly_mean      425\n",
       "dtype: int64"
      ]
     },
     "execution_count": 44,
     "metadata": {},
     "output_type": "execute_result"
    }
   ],
   "source": [
    "joined_test.isnull().sum()[joined_test.isnull().sum() > 0]"
   ]
  },
  {
   "cell_type": "code",
   "execution_count": 35,
   "metadata": {},
   "outputs": [],
   "source": [
    "# meal_info_pd.head()"
   ]
  },
  {
   "cell_type": "code",
   "execution_count": 36,
   "metadata": {},
   "outputs": [],
   "source": [
    "# month_meal = pd.merge(month_order_agg, meal_info_pd, on=[\"meal_id\"], how=\"inner\")\n",
    "# month_meal = pd.merge(month_meal, fc_info_pd, on=[\"center_id\"], how=\"inner\")"
   ]
  },
  {
   "cell_type": "code",
   "execution_count": 37,
   "metadata": {},
   "outputs": [],
   "source": [
    "# quarter_meal = pd.merge(month_order_agg, meal_info_pd, on=[\"meal_id\"], how=\"inner\")\n",
    "# month_meal = pd.merge(month_meal, fc_info_pd, on=[\"center_id\"], how=\"inner\")"
   ]
  },
  {
   "cell_type": "code",
   "execution_count": 38,
   "metadata": {
    "scrolled": true
   },
   "outputs": [],
   "source": [
    "# joined_test[joined_test.num_order_monthly_mean.isnull()].T"
   ]
  },
  {
   "cell_type": "code",
   "execution_count": 39,
   "metadata": {},
   "outputs": [
    {
     "data": {
      "text/plain": [
       "Index(['id', 'week', 'center_id', 'meal_id', 'checkout_price', 'base_price',\n",
       "       'emailer_for_promotion', 'homepage_featured', 'num_orders', 'city_code',\n",
       "       'region_code', 'op_area', 'base_minus_checkout',\n",
       "       'base_minus_checkout_mean', 'base_minus_checkout_std',\n",
       "       'base_minus_checkout_max', 'base_lt_checkout', 'base_gt_checkout',\n",
       "       'Continental-Beverages', 'Continental-Fish', 'Continental-Pizza',\n",
       "       'Continental-Seafood', 'Indian-Beverages', 'Indian-Biryani',\n",
       "       'Indian-Desert', 'Indian-Rice Bowl', 'Italian-Beverages',\n",
       "       'Italian-Pasta', 'Italian-Salad', 'Italian-Sandwich', 'Thai-Beverages',\n",
       "       'Thai-Extras', 'Thai-Other Snacks', 'Thai-Soup', 'Thai-Starters',\n",
       "       'TYPE_A', 'TYPE_B', 'TYPE_C', 'month', 'quarter',\n",
       "       'num_order_monthly_mean', 'num_order_quarterly_mean'],\n",
       "      dtype='object')"
      ]
     },
     "execution_count": 39,
     "metadata": {},
     "output_type": "execute_result"
    }
   ],
   "source": [
    "joined_pd.columns"
   ]
  },
  {
   "cell_type": "code",
   "execution_count": 40,
   "metadata": {},
   "outputs": [],
   "source": [
    "cols_to_remove = ['id', 'week', 'center_id', 'meal_id', 'num_order_monthly_mean', 'num_order_quarterly_mean']"
   ]
  },
  {
   "cell_type": "code",
   "execution_count": 41,
   "metadata": {},
   "outputs": [
    {
     "name": "stdout",
     "output_type": "stream",
     "text": [
      "columns used for prediction -  ['checkout_price', 'base_price', 'emailer_for_promotion', 'homepage_featured', 'city_code', 'region_code', 'op_area', 'base_minus_checkout', 'base_minus_checkout_mean', 'base_minus_checkout_std', 'base_minus_checkout_max', 'base_lt_checkout', 'base_gt_checkout', 'Continental-Beverages', 'Continental-Fish', 'Continental-Pizza', 'Continental-Seafood', 'Indian-Beverages', 'Indian-Biryani', 'Indian-Desert', 'Indian-Rice Bowl', 'Italian-Beverages', 'Italian-Pasta', 'Italian-Salad', 'Italian-Sandwich', 'Thai-Beverages', 'Thai-Extras', 'Thai-Other Snacks', 'Thai-Soup', 'Thai-Starters', 'TYPE_A', 'TYPE_B', 'TYPE_C', 'month', 'quarter']\n",
      "Target shape -  (456548,)\n",
      "Input data shape -  (456548, 35)\n",
      "columns used for prediction -  ['checkout_price', 'base_price', 'emailer_for_promotion', 'homepage_featured', 'city_code', 'region_code', 'op_area', 'base_minus_checkout', 'base_minus_checkout_mean', 'base_minus_checkout_std', 'base_minus_checkout_max', 'base_lt_checkout', 'base_gt_checkout', 'Continental-Beverages', 'Continental-Fish', 'Continental-Pizza', 'Continental-Seafood', 'Indian-Beverages', 'Indian-Biryani', 'Indian-Desert', 'Indian-Rice Bowl', 'Italian-Beverages', 'Italian-Pasta', 'Italian-Salad', 'Italian-Sandwich', 'Thai-Beverages', 'Thai-Extras', 'Thai-Other Snacks', 'Thai-Soup', 'Thai-Starters', 'TYPE_A', 'TYPE_B', 'TYPE_C', 'month', 'quarter']\n",
      "Input data shape -  (32573, 35)\n"
     ]
    }
   ],
   "source": [
    "train_set, train_target = data_transform(joined_pd.copy(), rem_cols=cols_to_remove)\n",
    "test_set, _ = data_transform(joined_test.copy(), rem_cols=cols_to_remove, is_test=True)"
   ]
  },
  {
   "cell_type": "code",
   "execution_count": 42,
   "metadata": {},
   "outputs": [
    {
     "name": "stdout",
     "output_type": "stream",
     "text": [
      "Train - Val split |  365238  -  91310\n"
     ]
    }
   ],
   "source": [
    "from sklearn.model_selection import ShuffleSplit\n",
    "\n",
    "shuffle = ShuffleSplit(n_splits=5, test_size=0.2, random_state=2019)\n",
    "train_index, test_index = list(shuffle.split(train_set))[2]\n",
    "print(\"Train - Val split | \", len(train_index), \" - \", len(test_index))"
   ]
  },
  {
   "cell_type": "code",
   "execution_count": 43,
   "metadata": {},
   "outputs": [
    {
     "name": "stdout",
     "output_type": "stream",
     "text": [
      "TRAIN SHAPE || data - (423727, 35) | target - (423727,)\n",
      "VAL SHAPE || data - (32821, 35) | target - (32821,)\n",
      "TEST SHAPE || data - (32573, 35) \n"
     ]
    }
   ],
   "source": [
    "# splitting train and test on weeks, val on lasty 10 weeks\n",
    "X_train = train_set.iloc[train_records].values\n",
    "X_val = train_set.iloc[val_records].values\n",
    "y_train = train_target[train_records]\n",
    "y_val = train_target[val_records]\n",
    "\n",
    "X_test = test_set.values\n",
    "\n",
    "print(\"TRAIN SHAPE || data - {} | target - {}\".format(X_train.shape,\n",
    "                                                      y_train.shape))\n",
    "print(\"VAL SHAPE || data - {} | target - {}\".format(X_val.shape,\n",
    "                                                    y_val.shape))\n",
    "print(\"TEST SHAPE || data - {} \".format(X_test.shape))"
   ]
  },
  {
   "cell_type": "code",
   "execution_count": 50,
   "metadata": {},
   "outputs": [],
   "source": [
    "from sklearn.ensemble import RandomForestRegressor\n",
    "from sklearn.metrics import mean_squared_error\n",
    "\n",
    "\n",
    "def rms_log_error(true, pred):\n",
    "    return np.sqrt(mean_squared_error(true, pred))\n",
    "\n",
    "\n",
    "def model_results(model):\n",
    "    y_train_pred = model.predict(X_train)\n",
    "    y_val_pred = model.predict(X_val)\n",
    "    \n",
    "    print(\"Train In-sample metric : \", rms_log_error(y_train,\n",
    "                                                     y_train_pred))\n",
    "    print(\"Validation metric : \", rms_log_error(y_val,\n",
    "                                                y_val_pred))\n",
    "    \n",
    "    print(\"R-Square values || TRAIN - {} || VAL - {}\".format(model.score(X_train, y_train), \n",
    "                                                             model.score(X_val, y_val)))\n"
   ]
  },
  {
   "cell_type": "code",
   "execution_count": 45,
   "metadata": {},
   "outputs": [
    {
     "name": "stderr",
     "output_type": "stream",
     "text": [
      "[Parallel(n_jobs=4)]: Using backend ThreadingBackend with 4 concurrent workers.\n",
      "[Parallel(n_jobs=4)]: Done  42 tasks      | elapsed:   29.2s\n",
      "[Parallel(n_jobs=4)]: Done 192 tasks      | elapsed:  2.1min\n",
      "[Parallel(n_jobs=4)]: Done 200 out of 200 | elapsed:  2.2min finished\n",
      "[Parallel(n_jobs=4)]: Using backend ThreadingBackend with 4 concurrent workers.\n",
      "[Parallel(n_jobs=4)]: Done  42 tasks      | elapsed:    0.4s\n",
      "[Parallel(n_jobs=4)]: Done 192 tasks      | elapsed:    1.6s\n",
      "[Parallel(n_jobs=4)]: Done 200 out of 200 | elapsed:    1.6s finished\n",
      "[Parallel(n_jobs=4)]: Using backend ThreadingBackend with 4 concurrent workers.\n",
      "[Parallel(n_jobs=4)]: Done  42 tasks      | elapsed:    0.0s\n",
      "[Parallel(n_jobs=4)]: Done 192 tasks      | elapsed:    0.2s\n",
      "[Parallel(n_jobs=4)]: Done 200 out of 200 | elapsed:    0.2s finished\n"
     ]
    },
    {
     "name": "stdout",
     "output_type": "stream",
     "text": [
      "Train In-sample metric :  215.10472930989474\n",
      "Validation metric :  177.05798606624418\n"
     ]
    },
    {
     "data": {
      "text/plain": [
       "18"
      ]
     },
     "execution_count": 45,
     "metadata": {},
     "output_type": "execute_result"
    }
   ],
   "source": [
    "rf_config = {\"n_estimators\": 200, \n",
    "             \"max_depth\": 8,\n",
    "             \"random_state\": 111, \"n_jobs\": 4,\"verbose\": 1}\n",
    "rf = RandomForestRegressor(**rf_config)\n",
    "rf.fit(X_train, y_train)\n",
    "model_results(rf)\n",
    "gc.collect()"
   ]
  },
  {
   "cell_type": "code",
   "execution_count": 46,
   "metadata": {},
   "outputs": [
    {
     "name": "stderr",
     "output_type": "stream",
     "text": [
      "[Parallel(n_jobs=4)]: Using backend ThreadingBackend with 4 concurrent workers.\n",
      "[Parallel(n_jobs=4)]: Done  42 tasks      | elapsed:    0.4s\n",
      "[Parallel(n_jobs=4)]: Done 192 tasks      | elapsed:    1.6s\n",
      "[Parallel(n_jobs=4)]: Done 200 out of 200 | elapsed:    1.7s finished\n"
     ]
    },
    {
     "data": {
      "text/plain": [
       "0.7159095263834951"
      ]
     },
     "execution_count": 46,
     "metadata": {},
     "output_type": "execute_result"
    }
   ],
   "source": [
    "rf.score(X_train, y_train)"
   ]
  },
  {
   "cell_type": "code",
   "execution_count": 47,
   "metadata": {},
   "outputs": [
    {
     "name": "stderr",
     "output_type": "stream",
     "text": [
      "[Parallel(n_jobs=4)]: Using backend ThreadingBackend with 4 concurrent workers.\n",
      "[Parallel(n_jobs=4)]: Done  42 tasks      | elapsed:    0.1s\n",
      "[Parallel(n_jobs=4)]: Done 192 tasks      | elapsed:    0.2s\n",
      "[Parallel(n_jobs=4)]: Done 200 out of 200 | elapsed:    0.2s finished\n"
     ]
    },
    {
     "data": {
      "text/plain": [
       "0.5902239667556687"
      ]
     },
     "execution_count": 47,
     "metadata": {},
     "output_type": "execute_result"
    }
   ],
   "source": [
    "rf.score(X_val, y_val)"
   ]
  },
  {
   "cell_type": "code",
   "execution_count": 51,
   "metadata": {},
   "outputs": [
    {
     "name": "stderr",
     "output_type": "stream",
     "text": [
      "[Parallel(n_jobs=4)]: Using backend ThreadingBackend with 4 concurrent workers.\n",
      "[Parallel(n_jobs=4)]: Done  42 tasks      | elapsed:   28.5s\n",
      "[Parallel(n_jobs=4)]: Done 192 tasks      | elapsed:  2.1min\n",
      "[Parallel(n_jobs=4)]: Done 300 out of 300 | elapsed:  3.3min finished\n",
      "[Parallel(n_jobs=4)]: Using backend ThreadingBackend with 4 concurrent workers.\n",
      "[Parallel(n_jobs=4)]: Done  42 tasks      | elapsed:    0.4s\n",
      "[Parallel(n_jobs=4)]: Done 192 tasks      | elapsed:    1.6s\n",
      "[Parallel(n_jobs=4)]: Done 300 out of 300 | elapsed:    2.5s finished\n",
      "[Parallel(n_jobs=4)]: Using backend ThreadingBackend with 4 concurrent workers.\n",
      "[Parallel(n_jobs=4)]: Done  42 tasks      | elapsed:    0.0s\n",
      "[Parallel(n_jobs=4)]: Done 192 tasks      | elapsed:    0.2s\n",
      "[Parallel(n_jobs=4)]: Done 300 out of 300 | elapsed:    0.3s finished\n"
     ]
    },
    {
     "name": "stdout",
     "output_type": "stream",
     "text": [
      "Train In-sample metric :  215.2485837122776\n",
      "Validation metric :  176.95605423354874\n"
     ]
    },
    {
     "name": "stderr",
     "output_type": "stream",
     "text": [
      "[Parallel(n_jobs=4)]: Using backend ThreadingBackend with 4 concurrent workers.\n",
      "[Parallel(n_jobs=4)]: Done  42 tasks      | elapsed:    0.4s\n",
      "[Parallel(n_jobs=4)]: Done 192 tasks      | elapsed:    1.6s\n",
      "[Parallel(n_jobs=4)]: Done 300 out of 300 | elapsed:    2.5s finished\n",
      "[Parallel(n_jobs=4)]: Using backend ThreadingBackend with 4 concurrent workers.\n",
      "[Parallel(n_jobs=4)]: Done  42 tasks      | elapsed:    0.0s\n"
     ]
    },
    {
     "name": "stdout",
     "output_type": "stream",
     "text": [
      "R-Square values || TRAIN - 0.7155294200896225 || VAL - 0.590695644986891\n"
     ]
    },
    {
     "name": "stderr",
     "output_type": "stream",
     "text": [
      "[Parallel(n_jobs=4)]: Done 192 tasks      | elapsed:    0.2s\n",
      "[Parallel(n_jobs=4)]: Done 300 out of 300 | elapsed:    0.3s finished\n"
     ]
    },
    {
     "data": {
      "text/plain": [
       "12"
      ]
     },
     "execution_count": 51,
     "metadata": {},
     "output_type": "execute_result"
    }
   ],
   "source": [
    "rf_config = {\"n_estimators\": 300, \n",
    "             \"max_depth\": 8,\n",
    "             \"random_state\": 111, \"n_jobs\": 4}\n",
    "rf = RandomForestRegressor(**rf_config)\n",
    "rf.fit(X_train, y_train)\n",
    "model_results(rf)\n",
    "gc.collect()"
   ]
  },
  {
   "cell_type": "code",
   "execution_count": 52,
   "metadata": {},
   "outputs": [
    {
     "name": "stdout",
     "output_type": "stream",
     "text": [
      "Train In-sample metric :  215.36754843107454\n",
      "Validation metric :  177.02309083864606\n",
      "R-Square values || TRAIN - 0.7152148878038522 || VAL - 0.5903854711214442\n"
     ]
    },
    {
     "data": {
      "text/plain": [
       "30"
      ]
     },
     "execution_count": 52,
     "metadata": {},
     "output_type": "execute_result"
    }
   ],
   "source": [
    "rf_config = {\"n_estimators\": 500, \n",
    "             \"max_depth\": 8,\n",
    "             \"random_state\": 111, \"n_jobs\": 4}\n",
    "rf = RandomForestRegressor(**rf_config)\n",
    "rf.fit(X_train, y_train)\n",
    "model_results(rf)\n",
    "gc.collect()"
   ]
  },
  {
   "cell_type": "code",
   "execution_count": null,
   "metadata": {},
   "outputs": [],
   "source": []
  },
  {
   "cell_type": "code",
   "execution_count": null,
   "metadata": {},
   "outputs": [],
   "source": []
  },
  {
   "cell_type": "code",
   "execution_count": 75,
   "metadata": {},
   "outputs": [
    {
     "name": "stderr",
     "output_type": "stream",
     "text": [
      "[Parallel(n_jobs=4)]: Using backend ThreadingBackend with 4 concurrent workers.\n",
      "[Parallel(n_jobs=4)]: Done  42 tasks      | elapsed:   10.1s\n",
      "[Parallel(n_jobs=4)]: Done 192 tasks      | elapsed:   44.5s\n",
      "[Parallel(n_jobs=4)]: Done 442 tasks      | elapsed:  1.7min\n",
      "[Parallel(n_jobs=4)]: Done 792 tasks      | elapsed:  3.0min\n",
      "[Parallel(n_jobs=4)]: Done 1000 out of 1000 | elapsed:  3.8min finished\n",
      "[Parallel(n_jobs=4)]: Using backend ThreadingBackend with 4 concurrent workers.\n",
      "[Parallel(n_jobs=4)]: Done  42 tasks      | elapsed:    0.5s\n",
      "[Parallel(n_jobs=4)]: Done 192 tasks      | elapsed:    2.3s\n",
      "[Parallel(n_jobs=4)]: Done 442 tasks      | elapsed:    5.3s\n",
      "[Parallel(n_jobs=4)]: Done 792 tasks      | elapsed:    9.5s\n",
      "[Parallel(n_jobs=4)]: Done 1000 out of 1000 | elapsed:   12.3s finished\n",
      "[Parallel(n_jobs=4)]: Using backend ThreadingBackend with 4 concurrent workers.\n",
      "[Parallel(n_jobs=4)]: Done  42 tasks      | elapsed:    0.1s\n",
      "[Parallel(n_jobs=4)]: Done 192 tasks      | elapsed:    0.6s\n",
      "[Parallel(n_jobs=4)]: Done 442 tasks      | elapsed:    1.3s\n",
      "[Parallel(n_jobs=4)]: Done 792 tasks      | elapsed:    2.4s\n"
     ]
    },
    {
     "name": "stdout",
     "output_type": "stream",
     "text": [
      "Train In-sample metric :  166.52392347627202\n",
      "Validation metric :  163.69684683292664\n"
     ]
    },
    {
     "name": "stderr",
     "output_type": "stream",
     "text": [
      "[Parallel(n_jobs=4)]: Done 1000 out of 1000 | elapsed:    2.9s finished\n"
     ]
    }
   ],
   "source": [
    "# Train In-sample metric :  166.52392347627202\n",
    "# Validation metric :  163.69684683292664\n",
    "rf_config = {\"n_estimators\": 1000,\n",
    "             \"max_depth\": 8,\n",
    "             \"min_samples_split\": 0.003,\n",
    "             \"max_features\": 'sqrt',\n",
    "             \"random_state\": 111,\n",
    "             \"n_jobs\": 4,\n",
    "             \"verbose\": 1}\n",
    "\n",
    "rf = RandomForestRegressor(**rf_config)\n",
    "\n",
    "rf.fit(X_train, y_train)\n",
    "\n",
    "model_results(rf)\n"
   ]
  },
  {
   "cell_type": "code",
   "execution_count": null,
   "metadata": {},
   "outputs": [
    {
     "name": "stderr",
     "output_type": "stream",
     "text": [
      "[Parallel(n_jobs=4)]: Using backend ThreadingBackend with 4 concurrent workers.\n",
      "[Parallel(n_jobs=4)]: Done  42 tasks      | elapsed:   19.6s\n",
      "[Parallel(n_jobs=4)]: Done 192 tasks      | elapsed:  1.4min\n",
      "[Parallel(n_jobs=4)]: Done 442 tasks      | elapsed:  3.4min\n"
     ]
    }
   ],
   "source": [
    "# Train In-sample metric :  105.15903034359839\n",
    "# Validation metric :  136.502376993227\n",
    "rf_config = {\"n_estimators\": 800,\n",
    "             \"max_depth\": 20,\n",
    "             \"max_features\": 'sqrt',\n",
    "             \"random_state\": 111,\n",
    "             \"n_jobs\": 4,\n",
    "             \"verbose\": 1}\n",
    "\n",
    "rf = RandomForestRegressor(**rf_config)\n",
    "\n",
    "rf.fit(X_train, y_train)\n",
    "\n",
    "model_results(rf)"
   ]
  },
  {
   "cell_type": "code",
   "execution_count": null,
   "metadata": {},
   "outputs": [],
   "source": [
    "rf_config = {\"n_estimators\": 1500,\n",
    "             \"max_depth\": 15,\n",
    "             \"max_features\": 'log2',\n",
    "             \"min_samples_split\": 0.003, \n",
    "             \"random_state\": 2019,\n",
    "             \"n_jobs\": 4,\n",
    "             \"verbose\": 1}\n",
    "\n",
    "rf = RandomForestRegressor(**rf_config)\n",
    "\n",
    "rf.fit(X_train, y_train)\n",
    "\n",
    "model_results(rf)"
   ]
  },
  {
   "cell_type": "code",
   "execution_count": 87,
   "metadata": {},
   "outputs": [
    {
     "name": "stderr",
     "output_type": "stream",
     "text": [
      "[Parallel(n_jobs=4)]: Using backend ThreadingBackend with 4 concurrent workers.\n",
      "[Parallel(n_jobs=4)]: Done  42 tasks      | elapsed:   11.3s\n",
      "[Parallel(n_jobs=4)]: Done 192 tasks      | elapsed:   49.1s\n",
      "[Parallel(n_jobs=4)]: Done 442 tasks      | elapsed:  1.9min\n",
      "[Parallel(n_jobs=4)]: Done 792 tasks      | elapsed:  3.6min\n",
      "[Parallel(n_jobs=4)]: Done 1242 tasks      | elapsed:  5.7min\n",
      "[Parallel(n_jobs=4)]: Done 1500 out of 1500 | elapsed:  7.0min finished\n",
      "[Parallel(n_jobs=4)]: Using backend ThreadingBackend with 4 concurrent workers.\n",
      "[Parallel(n_jobs=4)]: Done  42 tasks      | elapsed:    0.7s\n",
      "[Parallel(n_jobs=4)]: Done 192 tasks      | elapsed:    3.3s\n",
      "[Parallel(n_jobs=4)]: Done 442 tasks      | elapsed:    8.3s\n",
      "[Parallel(n_jobs=4)]: Done 792 tasks      | elapsed:   14.6s\n",
      "[Parallel(n_jobs=4)]: Done 1242 tasks      | elapsed:   21.8s\n",
      "[Parallel(n_jobs=4)]: Done 1500 out of 1500 | elapsed:   26.9s finished\n",
      "[Parallel(n_jobs=4)]: Using backend ThreadingBackend with 4 concurrent workers.\n",
      "[Parallel(n_jobs=4)]: Done  42 tasks      | elapsed:    0.2s\n",
      "[Parallel(n_jobs=4)]: Done 192 tasks      | elapsed:    0.9s\n",
      "[Parallel(n_jobs=4)]: Done 442 tasks      | elapsed:    2.0s\n",
      "[Parallel(n_jobs=4)]: Done 792 tasks      | elapsed:    3.5s\n",
      "[Parallel(n_jobs=4)]: Done 1242 tasks      | elapsed:    5.4s\n"
     ]
    },
    {
     "name": "stdout",
     "output_type": "stream",
     "text": [
      "Train In-sample metric :  198.0867908210644\n",
      "Validation metric :  189.17593860992582\n"
     ]
    },
    {
     "name": "stderr",
     "output_type": "stream",
     "text": [
      "[Parallel(n_jobs=4)]: Done 1500 out of 1500 | elapsed:    6.5s finished\n"
     ]
    }
   ],
   "source": [
    "# max_depth = 12\n",
    "# Train In-sample metric :  197.20422421330088\n",
    "# Validation metric :  188.3555629074162\n",
    "rf_config = {\"n_estimators\": 1500,\n",
    "             \"max_depth\": 10,\n",
    "             \"max_features\": 'log2',\n",
    "             \"min_samples_split\": 0.003, \n",
    "             \"random_state\": 2019,\n",
    "             \"n_jobs\": 4,\n",
    "             \"verbose\": 1}\n",
    "\n",
    "rf = RandomForestRegressor(**rf_config)\n",
    "\n",
    "rf.fit(X_train, y_train)\n",
    "\n",
    "model_results(rf)"
   ]
  },
  {
   "cell_type": "code",
   "execution_count": 79,
   "metadata": {},
   "outputs": [
    {
     "name": "stderr",
     "output_type": "stream",
     "text": [
      "[Parallel(n_jobs=4)]: Using backend ThreadingBackend with 4 concurrent workers.\n",
      "[Parallel(n_jobs=4)]: Done  42 tasks      | elapsed:   13.8s\n",
      "[Parallel(n_jobs=4)]: Done 192 tasks      | elapsed:  1.0min\n",
      "[Parallel(n_jobs=4)]: Done 442 tasks      | elapsed:  2.3min\n",
      "[Parallel(n_jobs=4)]: Done 700 out of 700 | elapsed:  3.8min finished\n",
      "[Parallel(n_jobs=4)]: Using backend ThreadingBackend with 4 concurrent workers.\n",
      "[Parallel(n_jobs=4)]: Done  42 tasks      | elapsed:    0.9s\n",
      "[Parallel(n_jobs=4)]: Done 192 tasks      | elapsed:    3.9s\n",
      "[Parallel(n_jobs=4)]: Done 442 tasks      | elapsed:    9.1s\n",
      "[Parallel(n_jobs=4)]: Done 700 out of 700 | elapsed:   14.2s finished\n",
      "[Parallel(n_jobs=4)]: Using backend ThreadingBackend with 4 concurrent workers.\n",
      "[Parallel(n_jobs=4)]: Done  42 tasks      | elapsed:    0.2s\n",
      "[Parallel(n_jobs=4)]: Done 192 tasks      | elapsed:    1.0s\n",
      "[Parallel(n_jobs=4)]: Done 442 tasks      | elapsed:    2.3s\n"
     ]
    },
    {
     "name": "stdout",
     "output_type": "stream",
     "text": [
      "Train In-sample metric :  128.43748620593917\n",
      "Validation metric :  143.0822366528206\n"
     ]
    },
    {
     "name": "stderr",
     "output_type": "stream",
     "text": [
      "[Parallel(n_jobs=4)]: Done 700 out of 700 | elapsed:    3.5s finished\n"
     ]
    }
   ],
   "source": [
    "rf_config = {\"n_estimators\": 700,\n",
    "             \"max_depth\": 12,\n",
    "             \"max_features\": 'sqrt',\n",
    "             \"random_state\": 111,\n",
    "             \"n_jobs\": 4,\n",
    "             \"verbose\": 1}\n",
    "\n",
    "rf = RandomForestRegressor(**rf_config)\n",
    "\n",
    "rf.fit(X_train, y_train)\n",
    "\n",
    "model_results(rf)"
   ]
  },
  {
   "cell_type": "code",
   "execution_count": null,
   "metadata": {},
   "outputs": [],
   "source": []
  }
 ],
 "metadata": {
  "kernelspec": {
   "display_name": "Python 3",
   "language": "python",
   "name": "python3"
  },
  "language_info": {
   "codemirror_mode": {
    "name": "ipython",
    "version": 3
   },
   "file_extension": ".py",
   "mimetype": "text/x-python",
   "name": "python",
   "nbconvert_exporter": "python",
   "pygments_lexer": "ipython3",
   "version": "3.6.5"
  }
 },
 "nbformat": 4,
 "nbformat_minor": 2
}
